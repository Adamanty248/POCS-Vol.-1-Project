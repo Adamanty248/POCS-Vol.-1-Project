{
  "nbformat": 4,
  "nbformat_minor": 0,
  "metadata": {
    "colab": {
      "provenance": [],
      "collapsed_sections": []
    },
    "kernelspec": {
      "name": "python3",
      "display_name": "Python 3"
    },
    "language_info": {
      "name": "python"
    }
  },
  "cells": [
    {
      "cell_type": "code",
      "execution_count": 1,
      "metadata": {
        "id": "0rYJq0wjgySk"
      },
      "outputs": [],
      "source": [
        "##check for negation\n",
        "#max ngram=2 (3 if take out contraction- but could be changed to be 2 with only taking not)\n",
        "lonely=['abandoned','abandon', 'alienated','alienate', 'disassociated', 'disassociate', 'betray', 'betrayed', 'betrayal', 'bleak',\n",
        "        'myself', 'uncared', 'careless', 'cold-shoulder', 'cry', 'crying', 'crys', 'cried', 'dejected', 'deject', 'lonely', 'alone', \n",
        "        'no one',  'isolate', 'isolated', 'isolates', 'demoralized', 'demoralize', 'demoralizes', 'desolate', 'desolation', 'disrespected',\n",
        "        'disrespect', 'disrespectful', 'disrespects', 'apart', 'estrange', 'estranged', 'foe', 'ignore', 'ignored', 'ignores', 'left behind',\n",
        "        'lonesome', 'left out', 'lost', 'misfit', 'miss out', 'missing out', 'neglect', 'neglected', 'neglects', 'nobody', 'discluded', 'not included',\n",
        "        'never included', 'my own', 'ostracized', 'out of place', 'ridiculed', 'ridicule', 'ridicules', 'scorn', 'scorned', 'scorns', 'shun',\n",
        "        'shunned', 'shuns', 'shunning', 'unshared', 'shut out', 'solitary', 'solitude', 'unsupported', 'unaccompanied', 'misunderstood', \"doesn't understand\",\n",
        "        'not understood', 'uncaring', 'disunite', 'disunited', 'seperate', 'seperated', 'seperates', 'divorce', 'withdrawn']\n",
        "\n",
        "\n",
        "##do not check uncertain for negation, they are still uncertain if negated\n",
        "#max ngram=3\n",
        "uncertain=['a bit', 'contemplate','hope','most likely', 'presume', 'a little', 'convoluted', 'most of the time', 'presuppose',  'allegedly',\n",
        "           'could',\t'imagine', 'nearly', 'probability', 'allude to', 'curiosity', 'imply', 'not certain', 'try', 'think', 'ambiguity', 'deem','in all likelihood',\n",
        "           'not convinced','prognosticate', 'uncertain', 'anticipate', 'discombobulate', 'in all probability', 'not know', 'quite',\t'unclear',  'approximately',\n",
        "           'do not understand', \"didn't understand\", 'incertain', 'not sure', 'reasonable', 'unconvinced', 'assess', \"don’t know\", 'inconstant', 'inconsistent',\n",
        "           'often', 'relatively', 'undecided', 'baffle', \"don’t understand\",'infer', 'perceive', 'risk', 'unexpected', 'befuddle', 'doubt', 'kind of', 'perchance',\n",
        "           'roughly', 'unlikely','bewilder', 'dubious', 'perhaps', 'seem', 'unpredictable','question', 'dumbfound','may',  'perplex', 'should',\n",
        "           'unsure', 'chance', 'estimate', 'maybe', 'slightly', 'usually', 'changeable', 'change', 'expect', 'might', 'ponder', 'somewhat', 'vary', 'complex',\n",
        "           'misinterpret', 'possibility', 'sort of', 'virtually', 'complicated', 'foresee', 'misjudge', 'speculate', 'whether', 'confound', 'generally', 'mistrust',\n",
        "           'postulate', 'suggest', 'guess', 'misunderstand', 'potential', 'suppose', 'consider', 'hint', 'mixed up', 'predict', 'suspect', 'would']\n",
        "uncertainStem=['hypothesi','theor', 'probabl', 'likel', 'plausibl', 'feasibl', 'possibl', 'confus', 'worr' ]\n",
        "\n",
        "\n",
        "\n",
        "\t\t\t\t\t"
      ]
    },
    {
      "cell_type": "code",
      "source": [
        "def clean(words):\n",
        "    #initialize punctuation\n",
        "    #don't include apostrophe, bc I want \"it's\" to be one word not two\n",
        "    #don't include '_' bc want things like p_name to be one word\n",
        "    dash='-'\n",
        "    dot='.'\n",
        "    q='?'\n",
        "    comma=','\n",
        "    exc='!'\n",
        "    #remove unwanted punctuation by replacing with nothing\n",
        "    words=words.replace(dash,\"\")\n",
        "    words=words.replace(dot,\"\")\n",
        "    words=words.replace(q,\"\")\n",
        "    words=words.replace(comma,\"\")\n",
        "    words=words.replace(exc,\"\")\n",
        "    #turn all words lowercase in order to search through them later\n",
        "    words=words.lower()\n",
        "    #return words\n",
        "    return words\n"
      ],
      "metadata": {
        "id": "WEYTL5UBbvTq"
      },
      "execution_count": null,
      "outputs": []
    },
    {
      "cell_type": "code",
      "source": [
        "def turns(words):\n",
        "    #find number of turns\n",
        "    #need to subtract 1 from len bc the speaker name will be first turn\n",
        "    turn=len(words)-1\n",
        "    #return number of turns and words\n",
        "    return turn"
      ],
      "metadata": {
        "id": "BE-7yg3GhMHn"
      },
      "execution_count": null,
      "outputs": []
    },
    {
      "cell_type": "code",
      "source": [
        "def sep(words):\n",
        "    #split string into words\n",
        "    sepwords=words.split()\n",
        "    #initalize list\n",
        "    cleanlist=[]\n",
        "    #initialize word count\n",
        "    wordcount=0\n",
        "    #iterate through\n",
        "    for item in sepwords:\n",
        "        #call clean words\n",
        "        cleaned=clean(item)\n",
        "        #append each word to list\n",
        "        cleanlist.append(cleaned)\n",
        "        wordcount+=1\n",
        "    #return cleanlist and wordcount\n",
        "    return cleanlist, wordcount"
      ],
      "metadata": {
        "id": "f-D8AgLShRMP"
      },
      "execution_count": null,
      "outputs": []
    }
  ]
}